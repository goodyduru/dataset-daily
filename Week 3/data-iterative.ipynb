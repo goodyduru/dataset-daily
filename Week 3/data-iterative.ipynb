{
  "nbformat": 4,
  "nbformat_minor": 0,
  "metadata": {
    "colab": {
      "name": "dataset-daily-week-3-iterative.ipynb",
      "provenance": [],
      "collapsed_sections": []
    },
    "kernelspec": {
      "name": "python3",
      "display_name": "Python 3"
    },
    "accelerator": "GPU"
  },
  "cells": [
    {
      "cell_type": "code",
      "metadata": {
        "id": "z1HR-CN9S11C",
        "colab_type": "code",
        "colab": {}
      },
      "source": [
        "!pip install nlp\n",
        "!pip install tensorflow-text\n",
        "import nlp\n",
        "import numpy as np"
      ],
      "execution_count": 0,
      "outputs": []
    },
    {
      "cell_type": "code",
      "metadata": {
        "id": "0M3V7U6STmdt",
        "colab_type": "code",
        "colab": {}
      },
      "source": [
        "# View all the available datasets \n",
        "print([dataset.id for dataset in nlp.list_datasets()])"
      ],
      "execution_count": 0,
      "outputs": []
    },
    {
      "cell_type": "code",
      "metadata": {
        "id": "FHhqh8-FTowS",
        "colab_type": "code",
        "colab": {}
      },
      "source": [
        "# Load dataset\n",
        "news_dataset = nlp.load_dataset('civil_comments')"
      ],
      "execution_count": 0,
      "outputs": []
    },
    {
      "cell_type": "code",
      "metadata": {
        "id": "U6WtBsjFTyaG",
        "colab_type": "code",
        "colab": {}
      },
      "source": [
        "!ls /root/.cache/huggingface/datasets/civil_comments/default/0.9.0"
      ],
      "execution_count": 0,
      "outputs": []
    },
    {
      "cell_type": "code",
      "metadata": {
        "id": "rEy8X8OPZLhT",
        "colab_type": "code",
        "colab": {}
      },
      "source": [
        "print('training set contains: ' + str(len(news_dataset['train'])) + ' examples')\n",
        "print('test set contains: ' + str(len(news_dataset['test'])) + ' examples')"
      ],
      "execution_count": 0,
      "outputs": []
    },
    {
      "cell_type": "code",
      "metadata": {
        "id": "-ZYi4JSXZZLT",
        "colab_type": "code",
        "colab": {}
      },
      "source": [
        "print('Positive example.')\n",
        "print(news_dataset['train'][0])"
      ],
      "execution_count": 0,
      "outputs": []
    },
    {
      "cell_type": "code",
      "metadata": {
        "id": "6hVgvTUwZcs1",
        "colab_type": "code",
        "colab": {}
      },
      "source": [
        "print('Negative example.')\n",
        "print(news_dataset['train'][4])"
      ],
      "execution_count": 0,
      "outputs": []
    },
    {
      "cell_type": "code",
      "metadata": {
        "id": "mERONzzHFuj3",
        "colab_type": "code",
        "colab": {}
      },
      "source": [
        "train_texts = []\n",
        "train_labels = []\n",
        "train_dataset = news_dataset['train'][:100000]\n",
        "for index in range(100000):\n",
        "  train_texts.append(train_dataset['text'][index])\n",
        "  train_labels.append(train_dataset['toxicity'][index])\n",
        "\n",
        "train_texts = np.array(train_texts)\n",
        "train_labels = np.array(train_labels)"
      ],
      "execution_count": 0,
      "outputs": []
    },
    {
      "cell_type": "code",
      "metadata": {
        "id": "-VEQ39r3pDni",
        "colab_type": "code",
        "colab": {}
      },
      "source": [
        "test_texts = []\n",
        "test_labels = []\n",
        "test_dataset = news_dataset['test'][:20000]\n",
        "for index in range(20000):\n",
        "  test_texts.append(test_dataset['text'][index])\n",
        "  test_labels.append(test_dataset['toxicity'][index])\n",
        "\n",
        "test_texts = np.array(test_texts)\n",
        "test_labels = np.array(test_labels)"
      ],
      "execution_count": 0,
      "outputs": []
    },
    {
      "cell_type": "code",
      "metadata": {
        "id": "HMU3aPnSZfnJ",
        "colab_type": "code",
        "colab": {}
      },
      "source": [
        "import tensorflow as tf\n",
        "import tensorflow_datasets as tfds"
      ],
      "execution_count": 0,
      "outputs": []
    },
    {
      "cell_type": "code",
      "metadata": {
        "id": "QF-SX7WaAFdj",
        "colab_type": "code",
        "colab": {}
      },
      "source": [
        "tf.__version__"
      ],
      "execution_count": 0,
      "outputs": []
    },
    {
      "cell_type": "code",
      "metadata": {
        "id": "MBOh7HIyFEnf",
        "colab_type": "code",
        "colab": {}
      },
      "source": [
        "train_dataset = tf.data.Dataset.from_tensor_slices((train_texts, train_labels)).shuffle(50000)\n",
        "test_dataset = tf.data.Dataset.from_tensor_slices((test_texts, test_labels))"
      ],
      "execution_count": 0,
      "outputs": []
    },
    {
      "cell_type": "code",
      "metadata": {
        "id": "-VBLLifpuswu",
        "colab_type": "code",
        "colab": {}
      },
      "source": [
        "for ex in train_dataset.take(5):\n",
        "  print(ex)"
      ],
      "execution_count": 0,
      "outputs": []
    },
    {
      "cell_type": "code",
      "metadata": {
        "id": "fhKjZEvEJoL3",
        "colab_type": "code",
        "colab": {}
      },
      "source": [
        "for ex in test_dataset.take(2):\n",
        "  print(ex)"
      ],
      "execution_count": 0,
      "outputs": []
    },
    {
      "cell_type": "code",
      "metadata": {
        "id": "k9jmnBeuKTJr",
        "colab_type": "code",
        "colab": {}
      },
      "source": [
        "tokenizer = tfds.features.text.Tokenizer()\n",
        "\n",
        "vocab = set()\n",
        "for text_tensor, _ in train_dataset:\n",
        "  some_tokens = tokenizer.tokenize(text_tensor.numpy())\n",
        "  vocab.update(some_tokens)\n",
        "\n",
        "for text_tensor, _ in test_dataset:\n",
        "  some_tokens = tokenizer.tokenize(text_tensor.numpy())\n",
        "  vocab.update(some_tokens)\n",
        "\n",
        "vocab_size = len(vocab)\n",
        "print(vocab_size)"
      ],
      "execution_count": 0,
      "outputs": []
    },
    {
      "cell_type": "code",
      "metadata": {
        "id": "qJF148t-_OiJ",
        "colab_type": "code",
        "colab": {}
      },
      "source": [
        "encoder = tfds.features.text.TokenTextEncoder(vocab)"
      ],
      "execution_count": 0,
      "outputs": []
    },
    {
      "cell_type": "code",
      "metadata": {
        "id": "cRnEw8LVAQvf",
        "colab_type": "code",
        "colab": {}
      },
      "source": [
        "example_text = next(iter(train_dataset))[0].numpy()\n",
        "example_text"
      ],
      "execution_count": 0,
      "outputs": []
    },
    {
      "cell_type": "code",
      "metadata": {
        "id": "UIey85duKhTv",
        "colab_type": "code",
        "colab": {}
      },
      "source": [
        "encoder.encode(example_text)"
      ],
      "execution_count": 0,
      "outputs": []
    },
    {
      "cell_type": "code",
      "metadata": {
        "id": "olVuzf6SLfE4",
        "colab_type": "code",
        "colab": {}
      },
      "source": [
        "def encode(text_tensor, label):\n",
        "  encoded_text = encoder.encode(text_tensor.numpy())\n",
        "  return encoded_text, label"
      ],
      "execution_count": 0,
      "outputs": []
    },
    {
      "cell_type": "code",
      "metadata": {
        "id": "SXN7wweOI74W",
        "colab_type": "code",
        "colab": {}
      },
      "source": [
        "def encode_map_fn(text_tensor, label):\n",
        "  encoded_text, label = tf.py_function(encode, inp=[text_tensor, label],\n",
        "                                       Tout=[tf.int64, tf.float64])\n",
        "  encoded_text.set_shape([None])\n",
        "  label.set_shape([])\n",
        "  return encoded_text, label"
      ],
      "execution_count": 0,
      "outputs": []
    },
    {
      "cell_type": "code",
      "metadata": {
        "id": "FsuNXkAIMP7-",
        "colab_type": "code",
        "colab": {}
      },
      "source": [
        "train_data = train_dataset.map(encode_map_fn).padded_batch(8)\n",
        "test_data = test_dataset.map(encode_map_fn).padded_batch(8)"
      ],
      "execution_count": 0,
      "outputs": []
    },
    {
      "cell_type": "code",
      "metadata": {
        "id": "IO9jD7E_I1ch",
        "colab_type": "code",
        "colab": {}
      },
      "source": [
        "for ex in train_data.take(2):\n",
        "  print(ex[0][0], ex[1][0])"
      ],
      "execution_count": 0,
      "outputs": []
    },
    {
      "cell_type": "code",
      "metadata": {
        "id": "vhBotatqIyVu",
        "colab_type": "code",
        "colab": {}
      },
      "source": [
        "vocab_size += 1"
      ],
      "execution_count": 0,
      "outputs": []
    },
    {
      "cell_type": "code",
      "metadata": {
        "id": "5PgwsD3jEyC7",
        "colab_type": "code",
        "colab": {}
      },
      "source": [
        "model = tf.keras.models.Sequential()"
      ],
      "execution_count": 0,
      "outputs": []
    },
    {
      "cell_type": "code",
      "metadata": {
        "id": "pzqAm5ODMgky",
        "colab_type": "code",
        "colab": {}
      },
      "source": [
        "model.add(tf.keras.layers.Embedding(vocab_size, 64))\n",
        "model.add(tf.keras.layers.Bidirectional(tf.keras.layers.LSTM(64)))"
      ],
      "execution_count": 0,
      "outputs": []
    },
    {
      "cell_type": "code",
      "metadata": {
        "id": "INK7QiOrEpBs",
        "colab_type": "code",
        "colab": {}
      },
      "source": [
        "for units in [64, 64]:\n",
        "  model.add(tf.keras.layers.Dense(units, activation='relu'))\n",
        "\n",
        "model.add(tf.keras.layers.Dense(1))"
      ],
      "execution_count": 0,
      "outputs": []
    },
    {
      "cell_type": "code",
      "metadata": {
        "id": "KJVeiiTbzsxi",
        "colab_type": "code",
        "colab": {}
      },
      "source": [
        "model.compile(optimizer='adam', loss=tf.keras.losses.MeanSquaredError(), metrics='accuracy')"
      ],
      "execution_count": 0,
      "outputs": []
    },
    {
      "cell_type": "code",
      "metadata": {
        "id": "O9nspA0e0Frm",
        "colab_type": "code",
        "colab": {}
      },
      "source": [
        "model.summary()"
      ],
      "execution_count": 0,
      "outputs": []
    },
    {
      "cell_type": "code",
      "metadata": {
        "id": "pHiSegaV0HvV",
        "colab_type": "code",
        "colab": {}
      },
      "source": [
        "model.fit(train_data, epochs=5, validation_data=test_data)"
      ],
      "execution_count": 0,
      "outputs": []
    },
    {
      "cell_type": "code",
      "metadata": {
        "id": "JfAu3xeg0Qlh",
        "colab_type": "code",
        "colab": {}
      },
      "source": [
        ""
      ],
      "execution_count": 0,
      "outputs": []
    }
  ]
}